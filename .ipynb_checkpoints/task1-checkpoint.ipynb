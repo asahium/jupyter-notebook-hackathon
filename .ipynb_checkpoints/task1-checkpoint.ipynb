{
 "cells": [
  {
   "cell_type": "code",
   "execution_count": 1,
   "id": "6d4a34d4",
   "metadata": {},
   "outputs": [
    {
     "name": "stdout",
     "output_type": "stream",
     "text": [
      "Request successful!\n"
     ]
    }
   ],
   "source": [
    "# # Do not forget to check if your notebook log collection plugin is working\n",
    "from mining_extension import check_logging\n",
    "check_logging(\"http://3.249.245.244:9999\")"
   ]
  },
  {
   "cell_type": "markdown",
   "id": "168d2db1",
   "metadata": {},
   "source": [
    "## Data Engineering"
   ]
  },
  {
   "cell_type": "code",
   "execution_count": 3,
   "id": "e5d0b326",
   "metadata": {},
   "outputs": [],
   "source": [
    "import numpy as np\n",
    "import pandas as pd\n",
    "import matplotlib.pyplot as plt\n",
    "import seaborn as sns\n",
    "import scipy.stats as stats\n",
    "import zipfile"
   ]
  },
  {
   "cell_type": "code",
   "execution_count": 12,
   "id": "83dcddc7",
   "metadata": {},
   "outputs": [],
   "source": [
    "with zipfile.ZipFile('data/task1/jetnet_logs.zip') as myzip:\n",
    "    with myzip.open('jetnet_logs.txt') as myfile:\n",
    "        df = pd.read_csv(myfile, delimiter='\\t', header=None)"
   ]
  },
  {
   "cell_type": "code",
   "execution_count": 13,
   "id": "6b4890d5",
   "metadata": {},
   "outputs": [
    {
     "data": {
      "text/html": [
       "<div>\n",
       "<style scoped>\n",
       "    .dataframe tbody tr th:only-of-type {\n",
       "        vertical-align: middle;\n",
       "    }\n",
       "\n",
       "    .dataframe tbody tr th {\n",
       "        vertical-align: top;\n",
       "    }\n",
       "\n",
       "    .dataframe thead th {\n",
       "        text-align: right;\n",
       "    }\n",
       "</style>\n",
       "<table border=\"1\" class=\"dataframe\">\n",
       "  <thead>\n",
       "    <tr style=\"text-align: right;\">\n",
       "      <th></th>\n",
       "      <th>0</th>\n",
       "    </tr>\n",
       "  </thead>\n",
       "  <tbody>\n",
       "    <tr>\n",
       "      <th>0</th>\n",
       "      <td>@User92: Action_3 (15/10/19 | 18:08:02) -&gt; Act...</td>\n",
       "    </tr>\n",
       "    <tr>\n",
       "      <th>1</th>\n",
       "      <td>@User140: Action_3 (15/05/20 | 15:37:04) -&gt; Ac...</td>\n",
       "    </tr>\n",
       "    <tr>\n",
       "      <th>2</th>\n",
       "      <td>@User105: Action_4 (25/04/20 | 01:08:29) -&gt; Ac...</td>\n",
       "    </tr>\n",
       "    <tr>\n",
       "      <th>3</th>\n",
       "      <td>@User127: Action_1 (20/06/20 | 00:24:48) -&gt; Ac...</td>\n",
       "    </tr>\n",
       "    <tr>\n",
       "      <th>4</th>\n",
       "      <td>@User50: Action_4 (09/10/19 | 15:12:52) --&gt; Ac...</td>\n",
       "    </tr>\n",
       "    <tr>\n",
       "      <th>...</th>\n",
       "      <td>...</td>\n",
       "    </tr>\n",
       "    <tr>\n",
       "      <th>87187</th>\n",
       "      <td>@User69: Action_6 (29/06/21 | 22:15:46) -&gt; Act...</td>\n",
       "    </tr>\n",
       "    <tr>\n",
       "      <th>87188</th>\n",
       "      <td>@User70: Action_10 (09/04/21 | 17:23:14) -&gt; Ac...</td>\n",
       "    </tr>\n",
       "    <tr>\n",
       "      <th>87189</th>\n",
       "      <td>@User47: Action_3 (26/10/20 | 22:03:25) --&gt; Ac...</td>\n",
       "    </tr>\n",
       "    <tr>\n",
       "      <th>87190</th>\n",
       "      <td>@User112: Action_2 (07/07/21 | 17:46:03) -&gt; Ac...</td>\n",
       "    </tr>\n",
       "    <tr>\n",
       "      <th>87191</th>\n",
       "      <td>@User76: Action_7 (28/07/21 | 14:35:47) -&gt; Act...</td>\n",
       "    </tr>\n",
       "  </tbody>\n",
       "</table>\n",
       "<p>87192 rows × 1 columns</p>\n",
       "</div>"
      ],
      "text/plain": [
       "                                                       0\n",
       "0      @User92: Action_3 (15/10/19 | 18:08:02) -> Act...\n",
       "1      @User140: Action_3 (15/05/20 | 15:37:04) -> Ac...\n",
       "2      @User105: Action_4 (25/04/20 | 01:08:29) -> Ac...\n",
       "3      @User127: Action_1 (20/06/20 | 00:24:48) -> Ac...\n",
       "4      @User50: Action_4 (09/10/19 | 15:12:52) --> Ac...\n",
       "...                                                  ...\n",
       "87187  @User69: Action_6 (29/06/21 | 22:15:46) -> Act...\n",
       "87188  @User70: Action_10 (09/04/21 | 17:23:14) -> Ac...\n",
       "87189  @User47: Action_3 (26/10/20 | 22:03:25) --> Ac...\n",
       "87190  @User112: Action_2 (07/07/21 | 17:46:03) -> Ac...\n",
       "87191  @User76: Action_7 (28/07/21 | 14:35:47) -> Act...\n",
       "\n",
       "[87192 rows x 1 columns]"
      ]
     },
     "execution_count": 13,
     "metadata": {},
     "output_type": "execute_result"
    }
   ],
   "source": [
    "df"
   ]
  },
  {
   "cell_type": "code",
   "execution_count": 14,
   "id": "f5365840",
   "metadata": {},
   "outputs": [],
   "source": [
    "df['user_id'] = df[0].str.split(':').str[0]\n",
    "df['into'] = df[0].str.split(': ').str[1]"
   ]
  },
  {
   "cell_type": "code",
   "execution_count": 15,
   "id": "5a5cf632",
   "metadata": {},
   "outputs": [
    {
     "data": {
      "text/html": [
       "<div>\n",
       "<style scoped>\n",
       "    .dataframe tbody tr th:only-of-type {\n",
       "        vertical-align: middle;\n",
       "    }\n",
       "\n",
       "    .dataframe tbody tr th {\n",
       "        vertical-align: top;\n",
       "    }\n",
       "\n",
       "    .dataframe thead th {\n",
       "        text-align: right;\n",
       "    }\n",
       "</style>\n",
       "<table border=\"1\" class=\"dataframe\">\n",
       "  <thead>\n",
       "    <tr style=\"text-align: right;\">\n",
       "      <th></th>\n",
       "      <th>0</th>\n",
       "      <th>user_id</th>\n",
       "      <th>into</th>\n",
       "    </tr>\n",
       "  </thead>\n",
       "  <tbody>\n",
       "    <tr>\n",
       "      <th>0</th>\n",
       "      <td>@User92: Action_3 (15/10/19 | 18:08:02) -&gt; Act...</td>\n",
       "      <td>@User92</td>\n",
       "      <td>Action_3 (15/10/19 | 18:08:02) -&gt; Action_1 (15...</td>\n",
       "    </tr>\n",
       "    <tr>\n",
       "      <th>1</th>\n",
       "      <td>@User140: Action_3 (15/05/20 | 15:37:04) -&gt; Ac...</td>\n",
       "      <td>@User140</td>\n",
       "      <td>Action_3 (15/05/20 | 15:37:04) -&gt; Action_8 (15...</td>\n",
       "    </tr>\n",
       "    <tr>\n",
       "      <th>2</th>\n",
       "      <td>@User105: Action_4 (25/04/20 | 01:08:29) -&gt; Ac...</td>\n",
       "      <td>@User105</td>\n",
       "      <td>Action_4 (25/04/20 | 01:08:29) -&gt; Action_7 (25...</td>\n",
       "    </tr>\n",
       "    <tr>\n",
       "      <th>3</th>\n",
       "      <td>@User127: Action_1 (20/06/20 | 00:24:48) -&gt; Ac...</td>\n",
       "      <td>@User127</td>\n",
       "      <td>Action_1 (20/06/20 | 00:24:48) -&gt; Action_2 (20...</td>\n",
       "    </tr>\n",
       "    <tr>\n",
       "      <th>4</th>\n",
       "      <td>@User50: Action_4 (09/10/19 | 15:12:52) --&gt; Ac...</td>\n",
       "      <td>@User50</td>\n",
       "      <td>Action_4 (09/10/19 | 15:12:52) --&gt; Action_8 (0...</td>\n",
       "    </tr>\n",
       "    <tr>\n",
       "      <th>...</th>\n",
       "      <td>...</td>\n",
       "      <td>...</td>\n",
       "      <td>...</td>\n",
       "    </tr>\n",
       "    <tr>\n",
       "      <th>87187</th>\n",
       "      <td>@User69: Action_6 (29/06/21 | 22:15:46) -&gt; Act...</td>\n",
       "      <td>@User69</td>\n",
       "      <td>Action_6 (29/06/21 | 22:15:46) -&gt; Action_7 (29...</td>\n",
       "    </tr>\n",
       "    <tr>\n",
       "      <th>87188</th>\n",
       "      <td>@User70: Action_10 (09/04/21 | 17:23:14) -&gt; Ac...</td>\n",
       "      <td>@User70</td>\n",
       "      <td>Action_10 (09/04/21 | 17:23:14) -&gt; Action_4 (0...</td>\n",
       "    </tr>\n",
       "    <tr>\n",
       "      <th>87189</th>\n",
       "      <td>@User47: Action_3 (26/10/20 | 22:03:25) --&gt; Ac...</td>\n",
       "      <td>@User47</td>\n",
       "      <td>Action_3 (26/10/20 | 22:03:25) --&gt; Action_7 (2...</td>\n",
       "    </tr>\n",
       "    <tr>\n",
       "      <th>87190</th>\n",
       "      <td>@User112: Action_2 (07/07/21 | 17:46:03) -&gt; Ac...</td>\n",
       "      <td>@User112</td>\n",
       "      <td>Action_2 (07/07/21 | 17:46:03) -&gt; Action_3 (07...</td>\n",
       "    </tr>\n",
       "    <tr>\n",
       "      <th>87191</th>\n",
       "      <td>@User76: Action_7 (28/07/21 | 14:35:47) -&gt; Act...</td>\n",
       "      <td>@User76</td>\n",
       "      <td>Action_7 (28/07/21 | 14:35:47) -&gt; Action_9 (28...</td>\n",
       "    </tr>\n",
       "  </tbody>\n",
       "</table>\n",
       "<p>87192 rows × 3 columns</p>\n",
       "</div>"
      ],
      "text/plain": [
       "                                                       0   user_id  \\\n",
       "0      @User92: Action_3 (15/10/19 | 18:08:02) -> Act...   @User92   \n",
       "1      @User140: Action_3 (15/05/20 | 15:37:04) -> Ac...  @User140   \n",
       "2      @User105: Action_4 (25/04/20 | 01:08:29) -> Ac...  @User105   \n",
       "3      @User127: Action_1 (20/06/20 | 00:24:48) -> Ac...  @User127   \n",
       "4      @User50: Action_4 (09/10/19 | 15:12:52) --> Ac...   @User50   \n",
       "...                                                  ...       ...   \n",
       "87187  @User69: Action_6 (29/06/21 | 22:15:46) -> Act...   @User69   \n",
       "87188  @User70: Action_10 (09/04/21 | 17:23:14) -> Ac...   @User70   \n",
       "87189  @User47: Action_3 (26/10/20 | 22:03:25) --> Ac...   @User47   \n",
       "87190  @User112: Action_2 (07/07/21 | 17:46:03) -> Ac...  @User112   \n",
       "87191  @User76: Action_7 (28/07/21 | 14:35:47) -> Act...   @User76   \n",
       "\n",
       "                                                    into  \n",
       "0      Action_3 (15/10/19 | 18:08:02) -> Action_1 (15...  \n",
       "1      Action_3 (15/05/20 | 15:37:04) -> Action_8 (15...  \n",
       "2      Action_4 (25/04/20 | 01:08:29) -> Action_7 (25...  \n",
       "3      Action_1 (20/06/20 | 00:24:48) -> Action_2 (20...  \n",
       "4      Action_4 (09/10/19 | 15:12:52) --> Action_8 (0...  \n",
       "...                                                  ...  \n",
       "87187  Action_6 (29/06/21 | 22:15:46) -> Action_7 (29...  \n",
       "87188  Action_10 (09/04/21 | 17:23:14) -> Action_4 (0...  \n",
       "87189  Action_3 (26/10/20 | 22:03:25) --> Action_7 (2...  \n",
       "87190  Action_2 (07/07/21 | 17:46:03) -> Action_3 (07...  \n",
       "87191  Action_7 (28/07/21 | 14:35:47) -> Action_9 (28...  \n",
       "\n",
       "[87192 rows x 3 columns]"
      ]
     },
     "execution_count": 15,
     "metadata": {},
     "output_type": "execute_result"
    }
   ],
   "source": [
    "df"
   ]
  },
  {
   "cell_type": "code",
   "execution_count": 16,
   "id": "98380a77",
   "metadata": {},
   "outputs": [],
   "source": [
    "df['user_id'] = df['user_id'].str.replace('@', '')"
   ]
  },
  {
   "cell_type": "code",
   "execution_count": 17,
   "id": "7e508fbc",
   "metadata": {},
   "outputs": [],
   "source": [
    "df = df.drop(0, axis=1)"
   ]
  },
  {
   "cell_type": "code",
   "execution_count": 18,
   "id": "1d088d6a",
   "metadata": {},
   "outputs": [
    {
     "data": {
      "text/html": [
       "<div>\n",
       "<style scoped>\n",
       "    .dataframe tbody tr th:only-of-type {\n",
       "        vertical-align: middle;\n",
       "    }\n",
       "\n",
       "    .dataframe tbody tr th {\n",
       "        vertical-align: top;\n",
       "    }\n",
       "\n",
       "    .dataframe thead th {\n",
       "        text-align: right;\n",
       "    }\n",
       "</style>\n",
       "<table border=\"1\" class=\"dataframe\">\n",
       "  <thead>\n",
       "    <tr style=\"text-align: right;\">\n",
       "      <th></th>\n",
       "      <th>user_id</th>\n",
       "      <th>into</th>\n",
       "    </tr>\n",
       "  </thead>\n",
       "  <tbody>\n",
       "    <tr>\n",
       "      <th>0</th>\n",
       "      <td>User92</td>\n",
       "      <td>Action_3 (15/10/19 | 18:08:02) -&gt; Action_1 (15...</td>\n",
       "    </tr>\n",
       "    <tr>\n",
       "      <th>1</th>\n",
       "      <td>User140</td>\n",
       "      <td>Action_3 (15/05/20 | 15:37:04) -&gt; Action_8 (15...</td>\n",
       "    </tr>\n",
       "    <tr>\n",
       "      <th>2</th>\n",
       "      <td>User105</td>\n",
       "      <td>Action_4 (25/04/20 | 01:08:29) -&gt; Action_7 (25...</td>\n",
       "    </tr>\n",
       "    <tr>\n",
       "      <th>3</th>\n",
       "      <td>User127</td>\n",
       "      <td>Action_1 (20/06/20 | 00:24:48) -&gt; Action_2 (20...</td>\n",
       "    </tr>\n",
       "    <tr>\n",
       "      <th>4</th>\n",
       "      <td>User50</td>\n",
       "      <td>Action_4 (09/10/19 | 15:12:52) --&gt; Action_8 (0...</td>\n",
       "    </tr>\n",
       "    <tr>\n",
       "      <th>...</th>\n",
       "      <td>...</td>\n",
       "      <td>...</td>\n",
       "    </tr>\n",
       "    <tr>\n",
       "      <th>87187</th>\n",
       "      <td>User69</td>\n",
       "      <td>Action_6 (29/06/21 | 22:15:46) -&gt; Action_7 (29...</td>\n",
       "    </tr>\n",
       "    <tr>\n",
       "      <th>87188</th>\n",
       "      <td>User70</td>\n",
       "      <td>Action_10 (09/04/21 | 17:23:14) -&gt; Action_4 (0...</td>\n",
       "    </tr>\n",
       "    <tr>\n",
       "      <th>87189</th>\n",
       "      <td>User47</td>\n",
       "      <td>Action_3 (26/10/20 | 22:03:25) --&gt; Action_7 (2...</td>\n",
       "    </tr>\n",
       "    <tr>\n",
       "      <th>87190</th>\n",
       "      <td>User112</td>\n",
       "      <td>Action_2 (07/07/21 | 17:46:03) -&gt; Action_3 (07...</td>\n",
       "    </tr>\n",
       "    <tr>\n",
       "      <th>87191</th>\n",
       "      <td>User76</td>\n",
       "      <td>Action_7 (28/07/21 | 14:35:47) -&gt; Action_9 (28...</td>\n",
       "    </tr>\n",
       "  </tbody>\n",
       "</table>\n",
       "<p>87192 rows × 2 columns</p>\n",
       "</div>"
      ],
      "text/plain": [
       "       user_id                                               into\n",
       "0       User92  Action_3 (15/10/19 | 18:08:02) -> Action_1 (15...\n",
       "1      User140  Action_3 (15/05/20 | 15:37:04) -> Action_8 (15...\n",
       "2      User105  Action_4 (25/04/20 | 01:08:29) -> Action_7 (25...\n",
       "3      User127  Action_1 (20/06/20 | 00:24:48) -> Action_2 (20...\n",
       "4       User50  Action_4 (09/10/19 | 15:12:52) --> Action_8 (0...\n",
       "...        ...                                                ...\n",
       "87187   User69  Action_6 (29/06/21 | 22:15:46) -> Action_7 (29...\n",
       "87188   User70  Action_10 (09/04/21 | 17:23:14) -> Action_4 (0...\n",
       "87189   User47  Action_3 (26/10/20 | 22:03:25) --> Action_7 (2...\n",
       "87190  User112  Action_2 (07/07/21 | 17:46:03) -> Action_3 (07...\n",
       "87191   User76  Action_7 (28/07/21 | 14:35:47) -> Action_9 (28...\n",
       "\n",
       "[87192 rows x 2 columns]"
      ]
     },
     "execution_count": 18,
     "metadata": {},
     "output_type": "execute_result"
    }
   ],
   "source": [
    "df"
   ]
  },
  {
   "cell_type": "code",
   "execution_count": null,
   "id": "1aa259a9",
   "metadata": {},
   "outputs": [],
   "source": []
  },
  {
   "cell_type": "code",
   "execution_count": null,
   "id": "3d130612",
   "metadata": {},
   "outputs": [],
   "source": []
  },
  {
   "cell_type": "code",
   "execution_count": null,
   "id": "beef8552",
   "metadata": {},
   "outputs": [],
   "source": []
  },
  {
   "cell_type": "code",
   "execution_count": null,
   "id": "fb404014",
   "metadata": {},
   "outputs": [],
   "source": []
  },
  {
   "cell_type": "code",
   "execution_count": null,
   "id": "a91ccf7d",
   "metadata": {},
   "outputs": [],
   "source": []
  },
  {
   "cell_type": "code",
   "execution_count": null,
   "id": "64cc1f8f",
   "metadata": {},
   "outputs": [],
   "source": []
  },
  {
   "cell_type": "code",
   "execution_count": null,
   "id": "1529b986",
   "metadata": {},
   "outputs": [],
   "source": []
  },
  {
   "cell_type": "code",
   "execution_count": null,
   "id": "dbcc400b",
   "metadata": {},
   "outputs": [],
   "source": []
  },
  {
   "cell_type": "markdown",
   "id": "3963ac06",
   "metadata": {},
   "source": [
    "## Metrics Evaluation"
   ]
  },
  {
   "cell_type": "code",
   "execution_count": null,
   "id": "4624924b",
   "metadata": {},
   "outputs": [],
   "source": []
  }
 ],
 "metadata": {
  "kernelspec": {
   "display_name": "Python 3 (ipykernel)",
   "language": "python",
   "name": "python3"
  },
  "language_info": {
   "codemirror_mode": {
    "name": "ipython",
    "version": 3
   },
   "file_extension": ".py",
   "mimetype": "text/x-python",
   "name": "python",
   "nbconvert_exporter": "python",
   "pygments_lexer": "ipython3",
   "version": "3.9.12"
  }
 },
 "nbformat": 4,
 "nbformat_minor": 5
}
